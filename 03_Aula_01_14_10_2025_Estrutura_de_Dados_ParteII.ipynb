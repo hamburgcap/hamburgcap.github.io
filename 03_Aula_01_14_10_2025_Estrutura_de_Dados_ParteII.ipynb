{
  "nbformat": 4,
  "nbformat_minor": 0,
  "metadata": {
    "colab": {
      "provenance": [],
      "include_colab_link": true
    },
    "kernelspec": {
      "name": "python3",
      "display_name": "Python 3"
    }
  },
  "cells": [
    {
      "cell_type": "markdown",
      "metadata": {
        "id": "view-in-github",
        "colab_type": "text"
      },
      "source": [
        "<a href=\"https://colab.research.google.com/github/hamburgcap/hamburgcap.github.io/blob/main/03_Aula_01_14_10_2025_Estrutura_de_Dados_ParteII.ipynb\" target=\"_parent\"><img src=\"https://colab.research.google.com/assets/colab-badge.svg\" alt=\"Open In Colab\"/></a>"
      ]
    },
    {
      "cell_type": "markdown",
      "metadata": {
        "id": "3x1QH2-iO9bL"
      },
      "source": [
        "# FGV EPGE - Escola de Pós-Graduação em Economia\n",
        "---\n",
        "## Mestrado Profissional em Economia\n",
        "### Decisões Baseadas em Dados I - 2025-4\n",
        "---\n",
        "#### Professor: Rafael Martins de Souza (rafael.souza@fgv.br)\n",
        "##### Doutor em Economia (EPGE, 2009), Mestre (UFRJ, 2003) e Bacharel em Estatística (ENCE, 2000).\n",
        "---"
      ]
    },
    {
      "cell_type": "markdown",
      "metadata": {
        "id": "cT6LffDknx3S"
      },
      "source": [
        "# Aula 1 - Parte III\n",
        "\n",
        "\n",
        "- Principais Estruturas de Dados (Parte 2)"
      ]
    },
    {
      "cell_type": "markdown",
      "metadata": {
        "id": "XSVk715t8nIK"
      },
      "source": [
        "## Estruturas de Dados\n",
        "\n",
        "- <font color='green'>Tipos numéricos (visto)</font>\n",
        "- <font color = 'green'>Lista (visto parcialmente)</font>\n",
        "- String\n",
        "- Conjuntos\n",
        "- Dicionários\n",
        "- Tuplas"
      ]
    },
    {
      "cell_type": "markdown",
      "metadata": {
        "id": "FOLYHOVJU-ow"
      },
      "source": [
        "Boa fonte para conseguir cores\n",
        "\n",
        "https://htmlcolorcodes.com/"
      ]
    },
    {
      "cell_type": "markdown",
      "metadata": {
        "id": "_jPpkFz4VKPf"
      },
      "source": [
        "### Continuação: Lista\n",
        "\n",
        "#### Referências interessantes\n",
        "\n",
        "- https://docs.python.org/3/tutorial/introduction.html#lists\n",
        "\n",
        "- https://docs.python.org/3/tutorial/datastructures.html\n",
        "\n"
      ]
    },
    {
      "cell_type": "markdown",
      "metadata": {
        "id": "71uMq3Q5dsSr"
      },
      "source": [
        "Referência sobre indexação:\n",
        "- https://docs.python.org/3/reference/expressions.html\n",
        "- https://docs.python.org/3/faq/programming.html"
      ]
    },
    {
      "cell_type": "code",
      "metadata": {
        "colab": {
          "base_uri": "https://localhost:8080/"
        },
        "id": "6g6WN1N7cSxu",
        "outputId": "1c31e9e0-0a6c-47b5-c4f1-4050783ac734"
      },
      "source": [
        "a = 1\n",
        "lista = [1,2, a]\n",
        "print(lista)\n",
        "a = 3\n",
        "lista = [1,2, a]\n",
        "print(lista)"
      ],
      "execution_count": null,
      "outputs": [
        {
          "output_type": "stream",
          "name": "stdout",
          "text": [
            "[1, 2, 1]\n",
            "[1, 2, 3]\n"
          ]
        }
      ]
    },
    {
      "cell_type": "code",
      "source": [
        "lista[2] = 3"
      ],
      "metadata": {
        "id": "BCxLH5x0QE3f"
      },
      "execution_count": null,
      "outputs": []
    },
    {
      "cell_type": "code",
      "source": [
        "lista"
      ],
      "metadata": {
        "colab": {
          "base_uri": "https://localhost:8080/"
        },
        "id": "N3Akb-EQQH7K",
        "outputId": "eaf39356-26d7-47f6-c904-693e2db4cc32"
      },
      "execution_count": null,
      "outputs": [
        {
          "output_type": "execute_result",
          "data": {
            "text/plain": [
              "[1, 2, 3]"
            ]
          },
          "metadata": {},
          "execution_count": 8
        }
      ]
    },
    {
      "cell_type": "code",
      "source": [
        "a"
      ],
      "metadata": {
        "colab": {
          "base_uri": "https://localhost:8080/"
        },
        "id": "8VAfD2gaP5xZ",
        "outputId": "1c0699cf-7683-45d0-91c5-7c1634870955"
      },
      "execution_count": null,
      "outputs": [
        {
          "output_type": "execute_result",
          "data": {
            "text/plain": [
              "[3]"
            ]
          },
          "metadata": {},
          "execution_count": 3
        }
      ]
    },
    {
      "cell_type": "code",
      "metadata": {
        "colab": {
          "base_uri": "https://localhost:8080/"
        },
        "id": "J8g4X8qmOtOz",
        "outputId": "54e64290-4a86-4492-ef5b-89595ce7788d"
      },
      "source": [
        "a = [1]\n",
        "lista = [a, 3,4]\n",
        "print(lista)\n",
        "a[0] = 3\n",
        "print(lista)"
      ],
      "execution_count": null,
      "outputs": [
        {
          "output_type": "stream",
          "name": "stdout",
          "text": [
            "[[1], 3, 4]\n",
            "[[3], 3, 4]\n"
          ]
        }
      ]
    },
    {
      "cell_type": "code",
      "metadata": {
        "colab": {
          "base_uri": "https://localhost:8080/"
        },
        "id": "CNWmES6sdUvL",
        "outputId": "7c2da351-5767-4e83-f9a5-798bda1c77fe"
      },
      "source": [
        "a = [1]\n",
        "b = a\n",
        "a[0] = 3\n",
        "print(b)"
      ],
      "execution_count": null,
      "outputs": [
        {
          "output_type": "stream",
          "name": "stdout",
          "text": [
            "[3]\n"
          ]
        }
      ]
    },
    {
      "cell_type": "code",
      "metadata": {
        "id": "difWTWL_KSi5"
      },
      "source": [
        "lista3 = [1,100,30,50,70]"
      ],
      "execution_count": null,
      "outputs": []
    },
    {
      "cell_type": "markdown",
      "metadata": {
        "id": "-GqyGtE0eWK2"
      },
      "source": [
        "### sort"
      ]
    },
    {
      "cell_type": "markdown",
      "metadata": {
        "id": "31VS6Y9qx960"
      },
      "source": [
        "Colocando em ordem (se os elementos forem apenas numéricos!)"
      ]
    },
    {
      "cell_type": "code",
      "metadata": {
        "id": "0COE9E457RAB",
        "colab": {
          "base_uri": "https://localhost:8080/"
        },
        "outputId": "27b20fb5-6a63-4953-a0fd-aea10ca924a7"
      },
      "source": [
        "lista3.sort()\n",
        "lista3"
      ],
      "execution_count": null,
      "outputs": [
        {
          "output_type": "execute_result",
          "data": {
            "text/plain": [
              "[1, 30, 50, 70, 100]"
            ]
          },
          "metadata": {
            "tags": []
          },
          "execution_count": 101
        }
      ]
    },
    {
      "cell_type": "code",
      "metadata": {
        "colab": {
          "base_uri": "https://localhost:8080/"
        },
        "id": "5b_Mfshfe3Jn",
        "outputId": "fc99c353-2d0b-4481-cd52-ae2eb9fc4596"
      },
      "source": [
        "print(lista3)"
      ],
      "execution_count": null,
      "outputs": [
        {
          "output_type": "stream",
          "text": [
            "[1, 30, 50, 70, 100]\n"
          ],
          "name": "stdout"
        }
      ]
    },
    {
      "cell_type": "code",
      "metadata": {
        "id": "8K0Othcbxdph",
        "colab": {
          "base_uri": "https://localhost:8080/"
        },
        "outputId": "fa4cc039-b9e7-447a-ba4c-37a93cda2812"
      },
      "source": [
        "lista33 = [1,'string',100,50,10]\n",
        "print(lista33)"
      ],
      "execution_count": null,
      "outputs": [
        {
          "output_type": "stream",
          "text": [
            "[1, 'string', 100, 50, 10]\n"
          ],
          "name": "stdout"
        }
      ]
    },
    {
      "cell_type": "markdown",
      "metadata": {
        "id": "GjC8ukn2E3PW"
      },
      "source": [
        "Para que o comando sort funcione é necessário que todos os objetos da lista sejam do mesmo tipo."
      ]
    },
    {
      "cell_type": "code",
      "metadata": {
        "id": "Qtqiq-S4xkoK",
        "colab": {
          "base_uri": "https://localhost:8080/",
          "height": 164
        },
        "outputId": "f47569b9-03bf-47b5-d5f2-d9ded571b299"
      },
      "source": [
        "lista33.sort()"
      ],
      "execution_count": null,
      "outputs": [
        {
          "output_type": "error",
          "ename": "TypeError",
          "evalue": "ignored",
          "traceback": [
            "\u001b[0;31m---------------------------------------------------------------------------\u001b[0m",
            "\u001b[0;31mTypeError\u001b[0m                                 Traceback (most recent call last)",
            "\u001b[0;32m<ipython-input-104-dc85c84de9b4>\u001b[0m in \u001b[0;36m<module>\u001b[0;34m()\u001b[0m\n\u001b[0;32m----> 1\u001b[0;31m \u001b[0mlista33\u001b[0m\u001b[0;34m.\u001b[0m\u001b[0msort\u001b[0m\u001b[0;34m(\u001b[0m\u001b[0;34m)\u001b[0m\u001b[0;34m\u001b[0m\u001b[0;34m\u001b[0m\u001b[0m\n\u001b[0m",
            "\u001b[0;31mTypeError\u001b[0m: '<' not supported between instances of 'str' and 'int'"
          ]
        }
      ]
    },
    {
      "cell_type": "code",
      "metadata": {
        "colab": {
          "base_uri": "https://localhost:8080/"
        },
        "id": "ogwoNb6mfEFW",
        "outputId": "290a4ef4-7d1b-4349-caf0-0f60f8ffcfd0"
      },
      "source": [
        "listanomes = [\"Sandro Mendes\", \"Marlon\", \"Marlon Marques\"]\n",
        "listanomes"
      ],
      "execution_count": null,
      "outputs": [
        {
          "output_type": "execute_result",
          "data": {
            "text/plain": [
              "['Sandro Mendes', 'Marlon', 'Marlon Marques']"
            ]
          },
          "metadata": {
            "tags": []
          },
          "execution_count": 117
        }
      ]
    },
    {
      "cell_type": "code",
      "metadata": {
        "colab": {
          "base_uri": "https://localhost:8080/"
        },
        "id": "ZrEOF46rffZi",
        "outputId": "9e9bc2c4-2f19-4227-a054-ae020d9a33f6"
      },
      "source": [
        "listanomes.sort()\n",
        "listanomes"
      ],
      "execution_count": null,
      "outputs": [
        {
          "output_type": "execute_result",
          "data": {
            "text/plain": [
              "['Marlon', 'Marlon Marques', 'Sandro Mendes']"
            ]
          },
          "metadata": {
            "tags": []
          },
          "execution_count": 119
        }
      ]
    },
    {
      "cell_type": "code",
      "metadata": {
        "colab": {
          "base_uri": "https://localhost:8080/"
        },
        "id": "1g3bUCO1g89j",
        "outputId": "0aff9253-e58b-4813-ef63-7fd2badc0cab"
      },
      "source": [
        "listanomes.sort(reverse=True)\n",
        "listanomes"
      ],
      "execution_count": null,
      "outputs": [
        {
          "output_type": "execute_result",
          "data": {
            "text/plain": [
              "['Sandro Mendes', 'Marlon Marques', 'Marlon']"
            ]
          },
          "metadata": {
            "tags": []
          },
          "execution_count": 130
        }
      ]
    },
    {
      "cell_type": "code",
      "metadata": {
        "colab": {
          "base_uri": "https://localhost:8080/"
        },
        "id": "Ff7h5LSXi8r5",
        "outputId": "e8504bde-3830-47f9-e466-a20f04ef4ab1"
      },
      "source": [
        "print(listanomes)\n",
        "listanomes = sorted(listanomes)\n",
        "print(listanomes)\n",
        "#print(listanomes)\n",
        "#Se eu quiser modificar o objeto.\n",
        "#listanomes = sorted(listanomes)"
      ],
      "execution_count": null,
      "outputs": [
        {
          "output_type": "stream",
          "text": [
            "['Sandro Mendes', 'Marlon Marques', 'Marlon']\n",
            "['Marlon', 'Marlon Marques', 'Sandro Mendes']\n"
          ],
          "name": "stdout"
        }
      ]
    },
    {
      "cell_type": "markdown",
      "metadata": {
        "id": "QR3v6cfi7RAE"
      },
      "source": [
        "Acessando elementos (com uma lista um pouco mais complicada)"
      ]
    },
    {
      "cell_type": "code",
      "metadata": {
        "id": "xw1rWieG7RAE"
      },
      "source": [
        "lista4 = [[[2,1],7,9,3,3,2,[2,6]],4,5,7]"
      ],
      "execution_count": null,
      "outputs": []
    },
    {
      "cell_type": "code",
      "metadata": {
        "id": "5OcghNNP7RAG",
        "colab": {
          "base_uri": "https://localhost:8080/"
        },
        "outputId": "29caf533-7456-41ed-a048-8fefef5f933b"
      },
      "source": [
        "lista4[0]"
      ],
      "execution_count": null,
      "outputs": [
        {
          "output_type": "execute_result",
          "data": {
            "text/plain": [
              "[[2, 1], 7, 9, 3, 3, 2, [2, 6]]"
            ]
          },
          "metadata": {
            "tags": []
          },
          "execution_count": 121
        }
      ]
    },
    {
      "cell_type": "code",
      "metadata": {
        "id": "meos-jeu7RAI",
        "colab": {
          "base_uri": "https://localhost:8080/"
        },
        "outputId": "b643c796-aea4-4c7a-ab7c-2ca2625891d0"
      },
      "source": [
        "len(lista4)"
      ],
      "execution_count": null,
      "outputs": [
        {
          "output_type": "execute_result",
          "data": {
            "text/plain": [
              "4"
            ]
          },
          "metadata": {
            "tags": []
          },
          "execution_count": 122
        }
      ]
    },
    {
      "cell_type": "code",
      "metadata": {
        "colab": {
          "base_uri": "https://localhost:8080/"
        },
        "id": "voALKEVxgI5X",
        "outputId": "98a36dbb-218a-40dc-9424-9ea069fc45ff"
      },
      "source": [
        "len(lista4[0])"
      ],
      "execution_count": null,
      "outputs": [
        {
          "output_type": "execute_result",
          "data": {
            "text/plain": [
              "7"
            ]
          },
          "metadata": {
            "tags": []
          },
          "execution_count": 123
        }
      ]
    },
    {
      "cell_type": "code",
      "metadata": {
        "colab": {
          "base_uri": "https://localhost:8080/"
        },
        "id": "8F-hZPFqgRL6",
        "outputId": "a905aceb-49cf-436e-a29e-e55af9720794"
      },
      "source": [
        "len(lista4[0][0])"
      ],
      "execution_count": null,
      "outputs": [
        {
          "output_type": "execute_result",
          "data": {
            "text/plain": [
              "2"
            ]
          },
          "metadata": {
            "tags": []
          },
          "execution_count": 127
        }
      ]
    },
    {
      "cell_type": "markdown",
      "metadata": {
        "id": "loVAJ5Ek7RAK"
      },
      "source": [
        "Qual a posição de determinado elemento?"
      ]
    },
    {
      "cell_type": "code",
      "metadata": {
        "id": "rmsif_bR7RAK",
        "colab": {
          "base_uri": "https://localhost:8080/"
        },
        "outputId": "2e26d81b-e4f6-4e42-c5e0-a657c4cc3595"
      },
      "source": [
        "# Qual é a posição do elemento 2 na lista4[0]?\n",
        "lista4[0].index(2)\n",
        "print(lista4[0][0][0])"
      ],
      "execution_count": null,
      "outputs": [
        {
          "output_type": "stream",
          "text": [
            "2\n"
          ],
          "name": "stdout"
        }
      ]
    },
    {
      "cell_type": "code",
      "metadata": {
        "id": "DLsofK7futtF",
        "colab": {
          "base_uri": "https://localhost:8080/"
        },
        "outputId": "aa96fd2b-d869-4727-f837-bdc9500dd1f8"
      },
      "source": [
        "lista4.index(4)"
      ],
      "execution_count": null,
      "outputs": [
        {
          "output_type": "execute_result",
          "data": {
            "text/plain": [
              "1"
            ]
          },
          "metadata": {
            "tags": []
          },
          "execution_count": 10
        }
      ]
    },
    {
      "cell_type": "code",
      "metadata": {
        "id": "RGSzDIAs7RAN",
        "colab": {
          "base_uri": "https://localhost:8080/"
        },
        "outputId": "62c7f8ca-1597-4e94-896b-0a404b12d418"
      },
      "source": [
        "lista4[0]"
      ],
      "execution_count": null,
      "outputs": [
        {
          "output_type": "execute_result",
          "data": {
            "text/plain": [
              "[[2, 1], 7, 9, 3, 3, 2, [2, 6]]"
            ]
          },
          "metadata": {
            "tags": []
          },
          "execution_count": 11
        }
      ]
    },
    {
      "cell_type": "markdown",
      "metadata": {
        "id": "sW3WZGfy7RAO"
      },
      "source": [
        "len() de 'length' dá o tamanho do objeto"
      ]
    },
    {
      "cell_type": "code",
      "metadata": {
        "id": "5xp4t6jl7RAP",
        "colab": {
          "base_uri": "https://localhost:8080/"
        },
        "outputId": "06c1c62a-c9f5-436d-92d0-cc5658fe9457"
      },
      "source": [
        "len(lista4)"
      ],
      "execution_count": null,
      "outputs": [
        {
          "output_type": "execute_result",
          "data": {
            "text/plain": [
              "4"
            ]
          },
          "metadata": {
            "tags": []
          },
          "execution_count": 12
        }
      ]
    },
    {
      "cell_type": "markdown",
      "metadata": {
        "id": "wgunzCOqwQDP"
      },
      "source": [
        "O comando pop() permite retirar objetos da lista.\n"
      ]
    },
    {
      "cell_type": "code",
      "metadata": {
        "id": "-ISvrzxM7RAS",
        "colab": {
          "base_uri": "https://localhost:8080/"
        },
        "outputId": "a228e3da-55d2-4637-f85e-5e973e14899d"
      },
      "source": [
        "#print(lista4)\n",
        "#lista4[0].pop()\n",
        "lista4"
      ],
      "execution_count": null,
      "outputs": [
        {
          "output_type": "execute_result",
          "data": {
            "text/plain": [
              "[[[2, 1], 7, 9, 3, 3, 2], 4, 5, 7]"
            ]
          },
          "metadata": {
            "tags": []
          },
          "execution_count": 142
        }
      ]
    },
    {
      "cell_type": "code",
      "metadata": {
        "id": "QjqbPx00vorw",
        "colab": {
          "base_uri": "https://localhost:8080/"
        },
        "outputId": "338474ba-e0b6-462a-d37b-e4c552717aef"
      },
      "source": [
        "print(lista4[0])"
      ],
      "execution_count": null,
      "outputs": [
        {
          "output_type": "stream",
          "text": [
            "[[2, 1], 7, 9, 3, 3, 2]\n"
          ],
          "name": "stdout"
        }
      ]
    },
    {
      "cell_type": "code",
      "metadata": {
        "id": "6OdwKLeC7RAT",
        "colab": {
          "base_uri": "https://localhost:8080/"
        },
        "outputId": "c1c53c4c-b9c1-4d93-e4ed-6524c7182aa9"
      },
      "source": [
        "lista4[0].pop(0)"
      ],
      "execution_count": null,
      "outputs": [
        {
          "output_type": "execute_result",
          "data": {
            "text/plain": [
              "[2, 1]"
            ]
          },
          "metadata": {
            "tags": []
          },
          "execution_count": 145
        }
      ]
    },
    {
      "cell_type": "code",
      "metadata": {
        "id": "31UlPYPe7RAW",
        "colab": {
          "base_uri": "https://localhost:8080/"
        },
        "outputId": "101e5f88-50bb-4011-ac09-3d49e29f0daf"
      },
      "source": [
        "lista4[0]"
      ],
      "execution_count": null,
      "outputs": [
        {
          "output_type": "execute_result",
          "data": {
            "text/plain": [
              "[7, 9, 3, 3, 2]"
            ]
          },
          "metadata": {
            "tags": []
          },
          "execution_count": 146
        }
      ]
    },
    {
      "cell_type": "code",
      "metadata": {
        "colab": {
          "base_uri": "https://localhost:8080/"
        },
        "id": "1vzD_nIMmdvr",
        "outputId": "5da89398-1df1-4e88-ce49-eba69bee5e2a"
      },
      "source": [
        "lista4"
      ],
      "execution_count": null,
      "outputs": [
        {
          "output_type": "execute_result",
          "data": {
            "text/plain": [
              "[[7, 9, 3, 3, 2], 4, 5, 7]"
            ]
          },
          "metadata": {
            "tags": []
          },
          "execution_count": 147
        }
      ]
    },
    {
      "cell_type": "markdown",
      "metadata": {
        "id": "CGtOtglgwbv6"
      },
      "source": [
        "O comando append() permite adicionar elementos à lista."
      ]
    },
    {
      "cell_type": "code",
      "metadata": {
        "id": "8k82wN3t7RAZ",
        "colab": {
          "base_uri": "https://localhost:8080/"
        },
        "outputId": "7e2cb918-7bcf-4d7e-c154-a20f8ac80f0c"
      },
      "source": [
        "lista4[0].append('string_qualquer')\n",
        "print(lista4[0])"
      ],
      "execution_count": null,
      "outputs": [
        {
          "output_type": "stream",
          "text": [
            "[7, 9, 3, 3, 2, 'string_qualquer']\n"
          ],
          "name": "stdout"
        }
      ]
    },
    {
      "cell_type": "code",
      "metadata": {
        "id": "Hgz8FuPp7RAc",
        "colab": {
          "base_uri": "https://localhost:8080/"
        },
        "outputId": "c32ca47f-c3ad-4fde-c685-9543b05413f0"
      },
      "source": [
        "lista4[0].pop()\n",
        "print(lista4)\n",
        "lista4[0]"
      ],
      "execution_count": null,
      "outputs": [
        {
          "output_type": "stream",
          "text": [
            "[[7, 9, 3, 3, 2], 4, 5, 7]\n"
          ],
          "name": "stdout"
        },
        {
          "output_type": "execute_result",
          "data": {
            "text/plain": [
              "[7, 9, 3, 3, 2]"
            ]
          },
          "metadata": {
            "tags": []
          },
          "execution_count": 18
        }
      ]
    },
    {
      "cell_type": "code",
      "metadata": {
        "colab": {
          "base_uri": "https://localhost:8080/"
        },
        "id": "QpVEICz8nFsh",
        "outputId": "a35885c0-e366-43a8-de2c-0f856ce06c31"
      },
      "source": [
        "lista = [0,1,2,3]\n",
        "print(lista)\n",
        "del lista[0]\n",
        "print(lista)"
      ],
      "execution_count": null,
      "outputs": [
        {
          "output_type": "stream",
          "text": [
            "[0, 1, 2, 3]\n",
            "[1, 2, 3]\n"
          ],
          "name": "stdout"
        }
      ]
    },
    {
      "cell_type": "markdown",
      "metadata": {
        "id": "SIIR3qH67RAY"
      },
      "source": [
        "\n",
        "Para somar usamos uma sintaxe um pouco diferente. \"Sum\" é uma dentre várias funções built-in"
      ]
    },
    {
      "cell_type": "code",
      "metadata": {
        "id": "Q-JqOfBG7RAe",
        "colab": {
          "base_uri": "https://localhost:8080/"
        },
        "outputId": "b33be6a4-ed79-43d5-c9e0-f56f3ecae8f3"
      },
      "source": [
        "print(lista4)\n",
        "#print(sum(lista4[0]))\n",
        "#print(sum(lista4))\n",
        "#Não consigo somar listas e inteiros/floats\n",
        "#print(lista4[0][0])\n",
        "#Não consigo \"somar\" um inteiro ou float\n",
        "#print(sum(lista4[0][0]))\n",
        "\n",
        "\n"
      ],
      "execution_count": null,
      "outputs": [
        {
          "output_type": "stream",
          "text": [
            "[[7, 9, 3, 3, 2], 4, 5, 7]\n"
          ],
          "name": "stdout"
        }
      ]
    },
    {
      "cell_type": "markdown",
      "metadata": {
        "id": "uBOVoc8A7RAg"
      },
      "source": [
        "### Count\n",
        "Count dá a frequência determinado elemento aparece na lista"
      ]
    },
    {
      "cell_type": "code",
      "metadata": {
        "id": "-_kadMHy7RAg",
        "colab": {
          "base_uri": "https://localhost:8080/"
        },
        "outputId": "9f7fd6d6-275a-45aa-f912-e78aff427010"
      },
      "source": [
        "lista4[0]"
      ],
      "execution_count": null,
      "outputs": [
        {
          "output_type": "execute_result",
          "data": {
            "text/plain": [
              "[7, 9, 3, 3, 2]"
            ]
          },
          "metadata": {
            "tags": []
          },
          "execution_count": 158
        }
      ]
    },
    {
      "cell_type": "code",
      "metadata": {
        "scrolled": true,
        "id": "DfTQy_We7RAi",
        "colab": {
          "base_uri": "https://localhost:8080/"
        },
        "outputId": "dc6edb4c-72bf-4d5e-d24d-5df05f648389"
      },
      "source": [
        "lista4[0].count(3)"
      ],
      "execution_count": null,
      "outputs": [
        {
          "output_type": "execute_result",
          "data": {
            "text/plain": [
              "2"
            ]
          },
          "metadata": {
            "tags": []
          },
          "execution_count": 159
        }
      ]
    },
    {
      "cell_type": "code",
      "metadata": {
        "colab": {
          "base_uri": "https://localhost:8080/"
        },
        "id": "cNSi9N1cqRAe",
        "outputId": "f31c45d9-1eb9-4e94-82f6-8961294a7b0d"
      },
      "source": [
        "lista4[0].count('3')"
      ],
      "execution_count": null,
      "outputs": [
        {
          "output_type": "execute_result",
          "data": {
            "text/plain": [
              "0"
            ]
          },
          "metadata": {
            "tags": []
          },
          "execution_count": 162
        }
      ]
    },
    {
      "cell_type": "code",
      "metadata": {
        "colab": {
          "base_uri": "https://localhost:8080/"
        },
        "id": "vl61qFzgq99c",
        "outputId": "c63b3175-d004-4030-b605-6936f4c18c9d"
      },
      "source": [
        "3 == '3'"
      ],
      "execution_count": null,
      "outputs": [
        {
          "output_type": "execute_result",
          "data": {
            "text/plain": [
              "False"
            ]
          },
          "metadata": {
            "tags": []
          },
          "execution_count": 164
        }
      ]
    },
    {
      "cell_type": "code",
      "metadata": {
        "colab": {
          "base_uri": "https://localhost:8080/"
        },
        "id": "OoJuxQ0lrSJg",
        "outputId": "82483d01-309f-4862-e6f1-5607d5f4ec49"
      },
      "source": [
        "a = 3\n",
        "print(type(a))\n",
        "b = \"3\"\n",
        "print(type(b))\n",
        "a == b"
      ],
      "execution_count": null,
      "outputs": [
        {
          "output_type": "stream",
          "text": [
            "<class 'int'>\n",
            "<class 'str'>\n"
          ],
          "name": "stdout"
        },
        {
          "output_type": "execute_result",
          "data": {
            "text/plain": [
              "False"
            ]
          },
          "metadata": {
            "tags": []
          },
          "execution_count": 174
        }
      ]
    },
    {
      "cell_type": "code",
      "metadata": {
        "colab": {
          "base_uri": "https://localhost:8080/"
        },
        "id": "r-nbpgX-qgpc",
        "outputId": "72c154e5-076a-4903-c736-d0ef05b7a241"
      },
      "source": [
        "lista4[0].count([3])"
      ],
      "execution_count": null,
      "outputs": [
        {
          "output_type": "execute_result",
          "data": {
            "text/plain": [
              "0"
            ]
          },
          "metadata": {
            "tags": []
          },
          "execution_count": 163
        }
      ]
    },
    {
      "cell_type": "code",
      "metadata": {
        "id": "1I_5O3aTzwEs",
        "colab": {
          "base_uri": "https://localhost:8080/"
        },
        "outputId": "4f52c70e-a6d7-429d-fcbb-06ffb6b41c26"
      },
      "source": [
        "lista4[0].count(6)"
      ],
      "execution_count": null,
      "outputs": [
        {
          "output_type": "execute_result",
          "data": {
            "text/plain": [
              "0"
            ]
          },
          "metadata": {
            "tags": []
          },
          "execution_count": 160
        }
      ]
    },
    {
      "cell_type": "code",
      "metadata": {
        "id": "URMGHi6yzlac",
        "colab": {
          "base_uri": "https://localhost:8080/"
        },
        "outputId": "02b2c955-2c9d-489c-a5a4-0989e9d52cc8"
      },
      "source": [
        "lista4[0].count([2, 1])"
      ],
      "execution_count": null,
      "outputs": [
        {
          "output_type": "execute_result",
          "data": {
            "text/plain": [
              "0"
            ]
          },
          "metadata": {
            "tags": []
          },
          "execution_count": 161
        }
      ]
    },
    {
      "cell_type": "code",
      "metadata": {
        "id": "ie3CseOt7RAk",
        "colab": {
          "base_uri": "https://localhost:8080/"
        },
        "outputId": "5ff666de-1a3f-426a-d33d-8eb282a18137"
      },
      "source": [
        "lista4"
      ],
      "execution_count": null,
      "outputs": [
        {
          "output_type": "execute_result",
          "data": {
            "text/plain": [
              "[[7, 9, 3, 3, 2], 4, 5, 7]"
            ]
          },
          "metadata": {
            "tags": []
          },
          "execution_count": 30
        }
      ]
    },
    {
      "cell_type": "code",
      "metadata": {
        "id": "8-tMLUN67RAm",
        "colab": {
          "base_uri": "https://localhost:8080/"
        },
        "outputId": "206d4aca-df1f-4841-96fd-55d96b881a03"
      },
      "source": [
        "lista4[0]"
      ],
      "execution_count": null,
      "outputs": [
        {
          "output_type": "execute_result",
          "data": {
            "text/plain": [
              "[7, 9, 3, 3, 2]"
            ]
          },
          "metadata": {
            "tags": []
          },
          "execution_count": 31
        }
      ]
    },
    {
      "cell_type": "code",
      "metadata": {
        "id": "8K1OeS4E7RAo",
        "colab": {
          "base_uri": "https://localhost:8080/"
        },
        "outputId": "140b402e-46a3-40da-d857-d3e81c3c0bb6"
      },
      "source": [
        "print(lista4)\n",
        "print(lista4[0][3])\n"
      ],
      "execution_count": null,
      "outputs": [
        {
          "output_type": "stream",
          "text": [
            "[[7, 9, 3, 3, 2], 4, 5, 7]\n",
            "3\n"
          ],
          "name": "stdout"
        }
      ]
    },
    {
      "cell_type": "code",
      "metadata": {
        "scrolled": true,
        "id": "kVCNRnrl7RAq",
        "colab": {
          "base_uri": "https://localhost:8080/"
        },
        "outputId": "d656bd35-f4a2-48fa-ba42-5f51cf8768f6"
      },
      "source": [
        "lista4[0].count(3)"
      ],
      "execution_count": null,
      "outputs": [
        {
          "output_type": "execute_result",
          "data": {
            "text/plain": [
              "2"
            ]
          },
          "metadata": {
            "tags": []
          },
          "execution_count": 33
        }
      ]
    },
    {
      "cell_type": "code",
      "metadata": {
        "id": "hy1oykc87RAr",
        "colab": {
          "base_uri": "https://localhost:8080/"
        },
        "outputId": "cfcd9523-139a-4bbc-ab01-fe9f5d327e84"
      },
      "source": [
        "print(lista4)\n",
        "lista5 = lista4[-1]\n",
        "print(lista5)"
      ],
      "execution_count": null,
      "outputs": [
        {
          "output_type": "stream",
          "text": [
            "[[7, 9, 3, 3, 2], 4, 5, 7]\n",
            "7\n"
          ],
          "name": "stdout"
        }
      ]
    },
    {
      "cell_type": "markdown",
      "metadata": {
        "id": "PnBVgBVK7RCd"
      },
      "source": [
        "Exercício Aula 2\n",
        "\n",
        "Calcular a média dos elementos de uma lista."
      ]
    },
    {
      "cell_type": "code",
      "metadata": {
        "scrolled": true,
        "id": "Q6937uQv7RCd",
        "colab": {
          "base_uri": "https://localhost:8080/"
        },
        "outputId": "0944ad30-eeac-4cd9-8b80-3338867d2293"
      },
      "source": [
        "lista_exercicio = [30, 17, 47, 37, 34, 45, 5, 45, 48, 22, 10, 18, 2, 48, 47, 9, 17, 43, 46, 37]\n",
        "print(lista_exercicio)"
      ],
      "execution_count": null,
      "outputs": [
        {
          "output_type": "stream",
          "text": [
            "[30, 17, 47, 37, 34, 45, 5, 45, 48, 22, 10, 18, 2, 48, 47, 9, 17, 43, 46, 37]\n"
          ],
          "name": "stdout"
        }
      ]
    },
    {
      "cell_type": "code",
      "metadata": {
        "id": "t2fwLagR2gZq",
        "colab": {
          "base_uri": "https://localhost:8080/"
        },
        "outputId": "67157958-5121-41fd-8a62-dea1942f86a4"
      },
      "source": [
        "sum(lista_exercicio)/len(lista_exercicio)"
      ],
      "execution_count": null,
      "outputs": [
        {
          "output_type": "execute_result",
          "data": {
            "text/plain": [
              "30.35"
            ]
          },
          "metadata": {
            "tags": []
          },
          "execution_count": 177
        }
      ]
    },
    {
      "cell_type": "markdown",
      "metadata": {
        "id": "PCWx_KFJszwc"
      },
      "source": [
        "### max"
      ]
    },
    {
      "cell_type": "code",
      "metadata": {
        "colab": {
          "base_uri": "https://localhost:8080/"
        },
        "id": "HheVJcG4si71",
        "outputId": "0bbfde89-8bf8-4aab-f4bf-eb4088d02f33"
      },
      "source": [
        "max(lista_exercicio)"
      ],
      "execution_count": null,
      "outputs": [
        {
          "output_type": "execute_result",
          "data": {
            "text/plain": [
              "48"
            ]
          },
          "metadata": {
            "tags": []
          },
          "execution_count": 178
        }
      ]
    },
    {
      "cell_type": "markdown",
      "metadata": {
        "id": "qfeP2whVswzJ"
      },
      "source": [
        "### min"
      ]
    },
    {
      "cell_type": "code",
      "metadata": {
        "colab": {
          "base_uri": "https://localhost:8080/"
        },
        "id": "6ax8ZcOOsroT",
        "outputId": "80a108b6-f5df-47e7-d66f-8683d6cbfe8f"
      },
      "source": [
        "min(lista_exercicio)"
      ],
      "execution_count": null,
      "outputs": [
        {
          "output_type": "execute_result",
          "data": {
            "text/plain": [
              "2"
            ]
          },
          "metadata": {
            "tags": []
          },
          "execution_count": 179
        }
      ]
    },
    {
      "cell_type": "code",
      "metadata": {
        "colab": {
          "base_uri": "https://localhost:8080/"
        },
        "id": "cIcJVaC_s7uW",
        "outputId": "87d2f16f-9405-4498-ed5b-3324c229d8c5"
      },
      "source": [
        "lista_exercicio = [30, 17, 47, 37, 34, 45, 5, 45, 48, 22, 10, 18, 2, 48, 47, 9, 17, 43, 46, 37]\n",
        "lista_exercicio.sort(reverse=True)\n",
        "print(lista_exercicio)\n",
        "a = lista_exercicio.pop(-2)\n",
        "print(a)\n",
        "print(lista_exercicio)"
      ],
      "execution_count": null,
      "outputs": [
        {
          "output_type": "stream",
          "text": [
            "[48, 48, 47, 47, 46, 45, 45, 43, 37, 37, 34, 30, 22, 18, 17, 17, 10, 9, 5, 2]\n",
            "5\n",
            "[48, 48, 47, 47, 46, 45, 45, 43, 37, 37, 34, 30, 22, 18, 17, 17, 10, 9, 2]\n"
          ],
          "name": "stdout"
        }
      ]
    },
    {
      "cell_type": "markdown",
      "metadata": {
        "id": "G7EYBQUi7RAw"
      },
      "source": [
        "### Tipo String:\n",
        "\n",
        "#### Referências:\n",
        "\n",
        "- https://docs.python.org/3/library/stdtypes.html#string-methods\n",
        "- https://docs.python.org/3/library/stdtypes.html#old-string-formatting\n",
        "- https://www.educative.io/edpresso/why-are-strings-in-python-immutable\n",
        "\n",
        "Strings são sequências de caracteres dispostos, necessariamente, entre aspas simples ou duplas.\n",
        "\n",
        "Comandos interessantes: capitalize, count, find, format, join, replace, split, startswith, upper"
      ]
    },
    {
      "cell_type": "code",
      "metadata": {
        "id": "GaQfd3UY7RAw"
      },
      "source": [
        "s1 = 'data science'\n",
        "s2 = 'mathematics'\n",
        "s3 = 'aluno'\n",
        "s4 = 'minha nota final foi '"
      ],
      "execution_count": null,
      "outputs": []
    },
    {
      "cell_type": "code",
      "metadata": {
        "id": "w3vXXoCX7RAy",
        "colab": {
          "base_uri": "https://localhost:8080/",
          "height": 37
        },
        "outputId": "a5c2e05b-8df6-4987-cd89-ffa3d9b64021"
      },
      "source": [
        "s1"
      ],
      "execution_count": null,
      "outputs": [
        {
          "output_type": "execute_result",
          "data": {
            "application/vnd.google.colaboratory.intrinsic+json": {
              "type": "string"
            },
            "text/plain": [
              "'data science'"
            ]
          },
          "metadata": {
            "tags": []
          },
          "execution_count": 196
        }
      ]
    },
    {
      "cell_type": "code",
      "metadata": {
        "colab": {
          "base_uri": "https://localhost:8080/"
        },
        "id": "z83tb2kM77Yb",
        "outputId": "9d4fe7c2-18e7-4393-c340-07e25fa70a93"
      },
      "source": [
        "type(s1)"
      ],
      "execution_count": null,
      "outputs": [
        {
          "output_type": "execute_result",
          "data": {
            "text/plain": [
              "str"
            ]
          },
          "metadata": {
            "tags": []
          },
          "execution_count": 197
        }
      ]
    },
    {
      "cell_type": "markdown",
      "metadata": {
        "id": "dc1mwyqx8GHr"
      },
      "source": [
        "#### capitalize"
      ]
    },
    {
      "cell_type": "code",
      "metadata": {
        "id": "_FuySnzS7RA0"
      },
      "source": [
        "s1 = s1.capitalize()"
      ],
      "execution_count": null,
      "outputs": []
    },
    {
      "cell_type": "code",
      "metadata": {
        "id": "hlbYkzQZ7RA1",
        "colab": {
          "base_uri": "https://localhost:8080/",
          "height": 37
        },
        "outputId": "ef95a25d-dee9-4925-b3a4-1efc011f67ce"
      },
      "source": [
        "s1"
      ],
      "execution_count": null,
      "outputs": [
        {
          "output_type": "execute_result",
          "data": {
            "application/vnd.google.colaboratory.intrinsic+json": {
              "type": "string"
            },
            "text/plain": [
              "'Data science'"
            ]
          },
          "metadata": {
            "tags": []
          },
          "execution_count": 199
        }
      ]
    },
    {
      "cell_type": "markdown",
      "metadata": {
        "id": "tugCnHEc8LCC"
      },
      "source": [
        "#### title\n"
      ]
    },
    {
      "cell_type": "code",
      "metadata": {
        "id": "LkooniL53e1e",
        "colab": {
          "base_uri": "https://localhost:8080/",
          "height": 37
        },
        "outputId": "34a47f13-f425-4c93-82c7-ad543c96dcd7"
      },
      "source": [
        "s1.title()"
      ],
      "execution_count": null,
      "outputs": [
        {
          "output_type": "execute_result",
          "data": {
            "application/vnd.google.colaboratory.intrinsic+json": {
              "type": "string"
            },
            "text/plain": [
              "'Data Science'"
            ]
          },
          "metadata": {
            "tags": []
          },
          "execution_count": 200
        }
      ]
    },
    {
      "cell_type": "markdown",
      "metadata": {
        "id": "M6nOG09W8UUj"
      },
      "source": [
        "#### replace"
      ]
    },
    {
      "cell_type": "code",
      "metadata": {
        "id": "mIL00kvQ3qFA"
      },
      "source": [
        "s2 = 'Ssstring'"
      ],
      "execution_count": null,
      "outputs": []
    },
    {
      "cell_type": "code",
      "metadata": {
        "id": "FWUuVzGL4GXN",
        "colab": {
          "base_uri": "https://localhost:8080/",
          "height": 37
        },
        "outputId": "6a7fb03d-7cfa-4b89-c55f-683342d49142"
      },
      "source": [
        "s2.replace('s','t')"
      ],
      "execution_count": null,
      "outputs": [
        {
          "output_type": "execute_result",
          "data": {
            "application/vnd.google.colaboratory.intrinsic+json": {
              "type": "string"
            },
            "text/plain": [
              "'Stttring'"
            ]
          },
          "metadata": {
            "tags": []
          },
          "execution_count": 213
        }
      ]
    },
    {
      "cell_type": "code",
      "metadata": {
        "colab": {
          "base_uri": "https://localhost:8080/"
        },
        "id": "ubakOM1_8kYY",
        "outputId": "e6e5ddfa-dee6-4f31-fe68-30c8cbc10c17"
      },
      "source": [
        "print(s2)"
      ],
      "execution_count": null,
      "outputs": [
        {
          "output_type": "stream",
          "text": [
            "Ssstring\n"
          ],
          "name": "stdout"
        }
      ]
    },
    {
      "cell_type": "code",
      "metadata": {
        "id": "JeIJqe-xFTZ4",
        "colab": {
          "base_uri": "https://localhost:8080/",
          "height": 37
        },
        "outputId": "ff7fcbf5-0f00-42e7-ecc2-3de557f55cc7"
      },
      "source": [
        "s2.upper()"
      ],
      "execution_count": null,
      "outputs": [
        {
          "output_type": "execute_result",
          "data": {
            "application/vnd.google.colaboratory.intrinsic+json": {
              "type": "string"
            },
            "text/plain": [
              "'SSSTRING'"
            ]
          },
          "metadata": {
            "tags": []
          },
          "execution_count": 215
        }
      ]
    },
    {
      "cell_type": "code",
      "metadata": {
        "colab": {
          "base_uri": "https://localhost:8080/"
        },
        "id": "DMlciTKi9g2n",
        "outputId": "539c16db-61ac-4a43-eee0-2ea970f93041"
      },
      "source": [
        "print(s2)"
      ],
      "execution_count": null,
      "outputs": [
        {
          "output_type": "stream",
          "text": [
            "Ssstring\n"
          ],
          "name": "stdout"
        }
      ]
    },
    {
      "cell_type": "code",
      "metadata": {
        "colab": {
          "base_uri": "https://localhost:8080/",
          "height": 37
        },
        "id": "IP2pyeI-8vtN",
        "outputId": "33c432b5-7f0b-4759-b3f1-c58dbf290d9b"
      },
      "source": [
        "s2.lower()"
      ],
      "execution_count": null,
      "outputs": [
        {
          "output_type": "execute_result",
          "data": {
            "application/vnd.google.colaboratory.intrinsic+json": {
              "type": "string"
            },
            "text/plain": [
              "'ssstring'"
            ]
          },
          "metadata": {
            "tags": []
          },
          "execution_count": 217
        }
      ]
    },
    {
      "cell_type": "code",
      "metadata": {
        "colab": {
          "base_uri": "https://localhost:8080/"
        },
        "id": "k4ULdSZc9nVC",
        "outputId": "67e19800-7bc9-43b8-b373-3a525e31779d"
      },
      "source": [
        "print(s2)"
      ],
      "execution_count": null,
      "outputs": [
        {
          "output_type": "stream",
          "text": [
            "Ssstring\n"
          ],
          "name": "stdout"
        }
      ]
    },
    {
      "cell_type": "markdown",
      "metadata": {
        "id": "5uIQo2HvD9TQ"
      },
      "source": [
        "Substituindo caracteres"
      ]
    },
    {
      "cell_type": "code",
      "metadata": {
        "id": "99cBkAEE7RA2",
        "colab": {
          "base_uri": "https://localhost:8080/",
          "height": 37
        },
        "outputId": "7310bbbb-a833-4681-85bf-68f9e50b8b21"
      },
      "source": [
        "s3"
      ],
      "execution_count": null,
      "outputs": [
        {
          "output_type": "execute_result",
          "data": {
            "application/vnd.google.colaboratory.intrinsic+json": {
              "type": "string"
            },
            "text/plain": [
              "'aluno'"
            ]
          },
          "metadata": {
            "tags": []
          },
          "execution_count": 221
        }
      ]
    },
    {
      "cell_type": "code",
      "metadata": {
        "scrolled": true,
        "id": "tE2WI1CQ7RA3",
        "colab": {
          "base_uri": "https://localhost:8080/",
          "height": 37
        },
        "outputId": "8f3c068b-766f-4bd3-b698-5b37dec4b365"
      },
      "source": [
        "s3.replace('o','a')"
      ],
      "execution_count": null,
      "outputs": [
        {
          "output_type": "execute_result",
          "data": {
            "application/vnd.google.colaboratory.intrinsic+json": {
              "type": "string"
            },
            "text/plain": [
              "'aluna'"
            ]
          },
          "metadata": {
            "tags": []
          },
          "execution_count": 223
        }
      ]
    },
    {
      "cell_type": "code",
      "metadata": {
        "id": "LDMekcGM4b-n",
        "colab": {
          "base_uri": "https://localhost:8080/",
          "height": 37
        },
        "outputId": "ca1b7091-533f-494f-eaa1-c4eaf1f452e9"
      },
      "source": [
        "s3"
      ],
      "execution_count": null,
      "outputs": [
        {
          "output_type": "execute_result",
          "data": {
            "application/vnd.google.colaboratory.intrinsic+json": {
              "type": "string"
            },
            "text/plain": [
              "'aluno'"
            ]
          },
          "metadata": {
            "tags": []
          },
          "execution_count": 225
        }
      ]
    },
    {
      "cell_type": "code",
      "metadata": {
        "id": "i7vLvh5c-Iy5"
      },
      "source": [
        "s3 = s3.replace('o','a')"
      ],
      "execution_count": null,
      "outputs": []
    },
    {
      "cell_type": "code",
      "metadata": {
        "colab": {
          "base_uri": "https://localhost:8080/"
        },
        "id": "JVybhmY1-jT2",
        "outputId": "48fe7890-2e1e-4744-e48e-76924daf0aa5"
      },
      "source": [
        "type(s3)"
      ],
      "execution_count": null,
      "outputs": [
        {
          "output_type": "execute_result",
          "data": {
            "text/plain": [
              "str"
            ]
          },
          "metadata": {
            "tags": []
          },
          "execution_count": 232
        }
      ]
    },
    {
      "cell_type": "code",
      "metadata": {
        "colab": {
          "base_uri": "https://localhost:8080/"
        },
        "id": "YeMG0F3K-Rgl",
        "outputId": "9c4c8480-1bc6-4cad-8ce1-f98c883417a0"
      },
      "source": [
        "print(s3)"
      ],
      "execution_count": null,
      "outputs": [
        {
          "output_type": "stream",
          "text": [
            "aluna\n"
          ],
          "name": "stdout"
        }
      ]
    },
    {
      "cell_type": "code",
      "metadata": {
        "id": "Jz3JYNZ67RA8",
        "colab": {
          "base_uri": "https://localhost:8080/",
          "height": 37
        },
        "outputId": "137331de-ab21-4c3c-fc44-08c699f9ed65"
      },
      "source": [
        "s3[-1]"
      ],
      "execution_count": null,
      "outputs": [
        {
          "output_type": "execute_result",
          "data": {
            "application/vnd.google.colaboratory.intrinsic+json": {
              "type": "string"
            },
            "text/plain": [
              "'a'"
            ]
          },
          "metadata": {
            "tags": []
          },
          "execution_count": 237
        }
      ]
    },
    {
      "cell_type": "code",
      "metadata": {
        "colab": {
          "base_uri": "https://localhost:8080/"
        },
        "id": "YShy2bDG_ShP",
        "outputId": "45cddfba-5ee3-4446-d8c9-5b4360dbb78d"
      },
      "source": [
        "print(s3)"
      ],
      "execution_count": null,
      "outputs": [
        {
          "output_type": "stream",
          "text": [
            "aluna\n"
          ],
          "name": "stdout"
        }
      ]
    },
    {
      "cell_type": "markdown",
      "metadata": {
        "id": "rvHQcanF_fj8"
      },
      "source": [
        "#### endswith"
      ]
    },
    {
      "cell_type": "code",
      "metadata": {
        "id": "1fSrzLma4s94",
        "colab": {
          "base_uri": "https://localhost:8080/"
        },
        "outputId": "fb698690-e223-4a59-ec73-0ce1b4cb496b"
      },
      "source": [
        "s3.endswith('a')"
      ],
      "execution_count": null,
      "outputs": [
        {
          "output_type": "execute_result",
          "data": {
            "text/plain": [
              "True"
            ]
          },
          "metadata": {
            "tags": []
          },
          "execution_count": 239
        }
      ]
    },
    {
      "cell_type": "markdown",
      "metadata": {
        "id": "maKTeALp7RBJ"
      },
      "source": [
        "Concatenando strings"
      ]
    },
    {
      "cell_type": "code",
      "metadata": {
        "id": "v4iQSbjl46ws",
        "colab": {
          "base_uri": "https://localhost:8080/",
          "height": 37
        },
        "outputId": "cc2d232c-db02-4d5e-a574-c75b340b001b"
      },
      "source": [
        "s4"
      ],
      "execution_count": null,
      "outputs": [
        {
          "output_type": "execute_result",
          "data": {
            "application/vnd.google.colaboratory.intrinsic+json": {
              "type": "string"
            },
            "text/plain": [
              "'minha nota final foi '"
            ]
          },
          "metadata": {
            "tags": []
          },
          "execution_count": 245
        }
      ]
    },
    {
      "cell_type": "code",
      "metadata": {
        "id": "ffH_3Yi0Dn4l",
        "colab": {
          "base_uri": "https://localhost:8080/",
          "height": 37
        },
        "outputId": "50313198-b4ec-4fd2-9cd3-7cd7152e791b"
      },
      "source": [
        "s4 + '10'"
      ],
      "execution_count": null,
      "outputs": [
        {
          "output_type": "execute_result",
          "data": {
            "application/vnd.google.colaboratory.intrinsic+json": {
              "type": "string"
            },
            "text/plain": [
              "'minha nota final foi 10'"
            ]
          },
          "metadata": {
            "tags": []
          },
          "execution_count": 246
        }
      ]
    },
    {
      "cell_type": "markdown",
      "metadata": {
        "id": "lOsG9ZlM7RBD"
      },
      "source": [
        "Aspas duplas e aspas comuns tem a mesma função. Quando se quer uma dentro do texto, usar a outra para formar a string"
      ]
    },
    {
      "cell_type": "code",
      "metadata": {
        "id": "hQV9PwLe7RBD",
        "colab": {
          "base_uri": "https://localhost:8080/",
          "height": 37
        },
        "outputId": "31d3c0e0-fe66-429b-c50a-bddfd032f4ba"
      },
      "source": [
        "s5 = \"let's go to the classroom\"\n",
        "s5"
      ],
      "execution_count": null,
      "outputs": [
        {
          "output_type": "execute_result",
          "data": {
            "application/vnd.google.colaboratory.intrinsic+json": {
              "type": "string"
            },
            "text/plain": [
              "\"let's go to the classroom\""
            ]
          },
          "metadata": {
            "tags": []
          },
          "execution_count": 247
        }
      ]
    },
    {
      "cell_type": "code",
      "metadata": {
        "id": "ymYvyLK25FvT"
      },
      "source": [
        "s55 = 'string com \"aspas\"'"
      ],
      "execution_count": null,
      "outputs": []
    },
    {
      "cell_type": "code",
      "metadata": {
        "id": "qcHz7e2j5FE9",
        "colab": {
          "base_uri": "https://localhost:8080/",
          "height": 37
        },
        "outputId": "0f87c777-4a84-4c2e-8fdc-b2e85b2699d4"
      },
      "source": [
        "s55"
      ],
      "execution_count": null,
      "outputs": [
        {
          "output_type": "execute_result",
          "data": {
            "application/vnd.google.colaboratory.intrinsic+json": {
              "type": "string"
            },
            "text/plain": [
              "'string com \"aspas\"'"
            ]
          },
          "metadata": {
            "tags": []
          },
          "execution_count": 250
        }
      ]
    },
    {
      "cell_type": "code",
      "metadata": {
        "id": "IOFNDEtKCjAz",
        "colab": {
          "base_uri": "https://localhost:8080/",
          "height": 37
        },
        "outputId": "dd1fbeff-6a5e-4c12-9168-fd2fc95cc31c"
      },
      "source": [
        "s6 = 'let\\'s go to the classroom'\n",
        "s6"
      ],
      "execution_count": null,
      "outputs": [
        {
          "output_type": "execute_result",
          "data": {
            "application/vnd.google.colaboratory.intrinsic+json": {
              "type": "string"
            },
            "text/plain": [
              "\"let's go to the classroom\""
            ]
          },
          "metadata": {
            "tags": []
          },
          "execution_count": 251
        }
      ]
    },
    {
      "cell_type": "code",
      "metadata": {
        "colab": {
          "base_uri": "https://localhost:8080/"
        },
        "id": "SVjH8YHTBk5n",
        "outputId": "a85b44fd-b04a-42ab-f261-05648106f314"
      },
      "source": [
        "s10 = 'don\\'t'\n",
        "print(s10)\n",
        "s10 = \"don't\"\n",
        "print(s10)"
      ],
      "execution_count": null,
      "outputs": [
        {
          "output_type": "stream",
          "text": [
            "don't\n",
            "don't\n"
          ],
          "name": "stdout"
        }
      ]
    },
    {
      "cell_type": "code",
      "metadata": {
        "id": "FQm-ZaPa7RBF",
        "colab": {
          "base_uri": "https://localhost:8080/"
        },
        "outputId": "03f17762-483b-4753-8ec4-ed269d1ff8ae"
      },
      "source": [
        "print(s10)\n",
        "s7 = '1'\n",
        "s8 = \"1\""
      ],
      "execution_count": null,
      "outputs": [
        {
          "output_type": "stream",
          "text": [
            "don't\n"
          ],
          "name": "stdout"
        }
      ]
    },
    {
      "cell_type": "code",
      "metadata": {
        "id": "qu82QKN77RBH",
        "colab": {
          "base_uri": "https://localhost:8080/"
        },
        "outputId": "8c64b394-b135-4577-b2d9-26338d9a000f"
      },
      "source": [
        "s7 == s8"
      ],
      "execution_count": null,
      "outputs": [
        {
          "output_type": "execute_result",
          "data": {
            "text/plain": [
              "True"
            ]
          },
          "metadata": {
            "tags": []
          },
          "execution_count": 259
        }
      ]
    },
    {
      "cell_type": "code",
      "metadata": {
        "id": "5xdP72VK5iDg",
        "colab": {
          "base_uri": "https://localhost:8080/"
        },
        "outputId": "6b908cad-2222-4a4e-a3fb-5d7547124070"
      },
      "source": [
        "s7.isdigit()"
      ],
      "execution_count": null,
      "outputs": [
        {
          "output_type": "execute_result",
          "data": {
            "text/plain": [
              "True"
            ]
          },
          "metadata": {
            "tags": []
          },
          "execution_count": 260
        }
      ]
    },
    {
      "cell_type": "code",
      "metadata": {
        "id": "p9k6fhJJFKvf"
      },
      "source": [
        "s9 = 'Para quebrar a string em uma lista de várias strings basta usar o método \"split\"'"
      ],
      "execution_count": null,
      "outputs": []
    },
    {
      "cell_type": "code",
      "metadata": {
        "id": "aIy0JrdTF3kt",
        "colab": {
          "base_uri": "https://localhost:8080/"
        },
        "outputId": "8cdd7965-1439-462a-deef-1bb8a526d4cb"
      },
      "source": [
        "s9.split()"
      ],
      "execution_count": null,
      "outputs": [
        {
          "output_type": "execute_result",
          "data": {
            "text/plain": [
              "['Para',\n",
              " 'quebrar',\n",
              " 'a',\n",
              " 'string',\n",
              " 'em',\n",
              " 'uma',\n",
              " 'lista',\n",
              " 'de',\n",
              " 'várias',\n",
              " 'strings',\n",
              " 'basta',\n",
              " 'usar',\n",
              " 'o',\n",
              " 'método',\n",
              " '\"split\"']"
            ]
          },
          "metadata": {
            "tags": []
          },
          "execution_count": 263
        }
      ]
    },
    {
      "cell_type": "code",
      "metadata": {
        "id": "SHPOd6qD57kF"
      },
      "source": [
        "s99 = 'o split pode usar outros separadores, por exemplo, vírgulas'"
      ],
      "execution_count": null,
      "outputs": []
    },
    {
      "cell_type": "code",
      "metadata": {
        "id": "Ub8_8Y0m6B6_",
        "colab": {
          "base_uri": "https://localhost:8080/"
        },
        "outputId": "bd8c4b81-d3c5-4244-a504-21fde5fabcd3"
      },
      "source": [
        "s99.split(',')"
      ],
      "execution_count": null,
      "outputs": [
        {
          "output_type": "execute_result",
          "data": {
            "text/plain": [
              "['o split pode usar outros separadores', ' por exemplo', ' vírgulas']"
            ]
          },
          "metadata": {
            "tags": []
          },
          "execution_count": 267
        }
      ]
    },
    {
      "cell_type": "markdown",
      "metadata": {
        "id": "nXbfRBlvWw4K"
      },
      "source": [
        "A \"operação inversa\" do split é o join"
      ]
    },
    {
      "cell_type": "code",
      "metadata": {
        "id": "0-6xL7Vd6Ne5",
        "colab": {
          "base_uri": "https://localhost:8080/",
          "height": 37
        },
        "outputId": "032d8294-4c17-46f9-ca65-da6873888da5"
      },
      "source": [
        "s9"
      ],
      "execution_count": null,
      "outputs": [
        {
          "output_type": "execute_result",
          "data": {
            "application/vnd.google.colaboratory.intrinsic+json": {
              "type": "string"
            },
            "text/plain": [
              "'Para quebrar a string em uma lista de várias strings basta usar o método \"split\"'"
            ]
          },
          "metadata": {
            "tags": []
          },
          "execution_count": 268
        }
      ]
    },
    {
      "cell_type": "code",
      "metadata": {
        "id": "8vlzN9LSW1NG",
        "colab": {
          "base_uri": "https://localhost:8080/",
          "height": 37
        },
        "outputId": "4aa2d42b-ec59-4c60-b28c-82e30a69b2d8"
      },
      "source": [
        "' '.join(s9.split())"
      ],
      "execution_count": null,
      "outputs": [
        {
          "output_type": "execute_result",
          "data": {
            "application/vnd.google.colaboratory.intrinsic+json": {
              "type": "string"
            },
            "text/plain": [
              "'Para quebrar a string em uma lista de várias strings basta usar o método \"split\"'"
            ]
          },
          "metadata": {
            "tags": []
          },
          "execution_count": 269
        }
      ]
    },
    {
      "cell_type": "code",
      "metadata": {
        "id": "6l70U6H56Ybv",
        "colab": {
          "base_uri": "https://localhost:8080/",
          "height": 54
        },
        "outputId": "ef7220e7-258b-485c-eae2-9a6002a98ff0"
      },
      "source": [
        "' '.join(s9)"
      ],
      "execution_count": null,
      "outputs": [
        {
          "output_type": "execute_result",
          "data": {
            "application/vnd.google.colaboratory.intrinsic+json": {
              "type": "string"
            },
            "text/plain": [
              "'P a r a   q u e b r a r   a   s t r i n g   e m   u m a   l i s t a   d e   v á r i a s   s t r i n g s   b a s t a   u s a r   o   m é t o d o   \" s p l i t \"'"
            ]
          },
          "metadata": {
            "tags": []
          },
          "execution_count": 270
        }
      ]
    },
    {
      "cell_type": "code",
      "metadata": {
        "id": "U-bieGAS6lc2"
      },
      "source": [
        "s10 = 'O ibovespa subiu 1%'"
      ],
      "execution_count": null,
      "outputs": []
    },
    {
      "cell_type": "code",
      "metadata": {
        "id": "VnGh7DpN6rE8"
      },
      "source": [
        "s10 = s10.split()"
      ],
      "execution_count": null,
      "outputs": []
    },
    {
      "cell_type": "code",
      "metadata": {
        "id": "Z-WeEtJf67h_",
        "colab": {
          "base_uri": "https://localhost:8080/"
        },
        "outputId": "af118ec4-f778-4312-d4d6-f81929383b63"
      },
      "source": [
        "s10"
      ],
      "execution_count": null,
      "outputs": [
        {
          "output_type": "execute_result",
          "data": {
            "text/plain": [
              "['O', 'ibovespa', 'subiu', '1%']"
            ]
          },
          "metadata": {
            "tags": []
          },
          "execution_count": 273
        }
      ]
    },
    {
      "cell_type": "code",
      "metadata": {
        "id": "UvhsPW676w2r",
        "colab": {
          "base_uri": "https://localhost:8080/",
          "height": 37
        },
        "outputId": "611898fe-f541-4cfc-b210-c6c539a28a57"
      },
      "source": [
        "''.join(s10)"
      ],
      "execution_count": null,
      "outputs": [
        {
          "output_type": "execute_result",
          "data": {
            "application/vnd.google.colaboratory.intrinsic+json": {
              "type": "string"
            },
            "text/plain": [
              "'Oibovespasubiu1%'"
            ]
          },
          "metadata": {
            "tags": []
          },
          "execution_count": 274
        }
      ]
    },
    {
      "cell_type": "markdown",
      "metadata": {
        "id": "N1YMHX40V0S6"
      },
      "source": [
        "Print Formatting"
      ]
    },
    {
      "cell_type": "code",
      "metadata": {
        "id": "Xl8cXhEs7ply"
      },
      "source": [
        "atual_brml3 = 10.92\n",
        "target_brml3 = 18.00"
      ],
      "execution_count": null,
      "outputs": []
    },
    {
      "cell_type": "code",
      "metadata": {
        "id": "3HKr-vwSVTkx",
        "colab": {
          "base_uri": "https://localhost:8080/"
        },
        "outputId": "5b3c193a-d878-4180-92d7-441f204d1460"
      },
      "source": [
        "print(f'O preço-alvo da ação de BR Malls é R$ {target_brml3}, o que representa um upside de {round(target_brml3/atual_brml3-1,3)*100}%.')"
      ],
      "execution_count": null,
      "outputs": [
        {
          "output_type": "stream",
          "text": [
            "O preço-alvo da ação de BR Malls é R$ 18.0, o que representa um upside de 64.8%.\n"
          ],
          "name": "stdout"
        }
      ]
    },
    {
      "cell_type": "markdown",
      "metadata": {
        "id": "mWCvbmLt7RBV"
      },
      "source": [
        "### Tipo Conjunto (sets):\n",
        "Os itens são postos entre chaves e separados por vírgula.\n",
        "\n",
        "- Set são sequências **não-ordenadas** e **não-indexados** de itens únicos. Sets são mutáveis.\n",
        "- Itens duplicados não são considerados"
      ]
    },
    {
      "cell_type": "code",
      "metadata": {
        "id": "qtCLzoZU7RBW"
      },
      "source": [
        "numero_pares = {2,2,4,4,4,6,8,8,10,4}"
      ],
      "execution_count": null,
      "outputs": []
    },
    {
      "cell_type": "code",
      "metadata": {
        "id": "oBNnQcza7RBX",
        "colab": {
          "base_uri": "https://localhost:8080/"
        },
        "outputId": "bc7b8b72-5e57-4e90-baee-d3caaedab20e"
      },
      "source": [
        "numero_pares"
      ],
      "execution_count": null,
      "outputs": [
        {
          "output_type": "execute_result",
          "data": {
            "text/plain": [
              "{2, 4, 6, 8, 10}"
            ]
          },
          "metadata": {
            "tags": []
          },
          "execution_count": 2
        }
      ]
    },
    {
      "cell_type": "code",
      "metadata": {
        "id": "8RypmNgb7RBY"
      },
      "source": [
        "numero_impares = {1,1,1,3,3,5,5,7,9}"
      ],
      "execution_count": null,
      "outputs": []
    },
    {
      "cell_type": "code",
      "metadata": {
        "id": "ehts8heX7RBa",
        "colab": {
          "base_uri": "https://localhost:8080/"
        },
        "outputId": "c1d027ac-4a49-4ac4-c8be-6e6f1200fa4c"
      },
      "source": [
        "numero_impares"
      ],
      "execution_count": null,
      "outputs": [
        {
          "output_type": "execute_result",
          "data": {
            "text/plain": [
              "{1, 3, 5, 7, 9}"
            ]
          },
          "metadata": {
            "tags": []
          },
          "execution_count": 4
        }
      ]
    },
    {
      "cell_type": "code",
      "metadata": {
        "id": "MNtURX9e7RBb"
      },
      "source": [
        "numero_primos = {2,3,5,7}"
      ],
      "execution_count": null,
      "outputs": []
    },
    {
      "cell_type": "code",
      "metadata": {
        "id": "OQuZiWY67RBc",
        "colab": {
          "base_uri": "https://localhost:8080/"
        },
        "outputId": "77118de5-f4f9-4f5a-8666-9106265bd47b"
      },
      "source": [
        "numero_primos"
      ],
      "execution_count": null,
      "outputs": [
        {
          "output_type": "execute_result",
          "data": {
            "text/plain": [
              "{2, 3, 5, 7}"
            ]
          },
          "metadata": {
            "tags": []
          },
          "execution_count": 6
        }
      ]
    },
    {
      "cell_type": "markdown",
      "metadata": {
        "id": "RwUHx4T7TEkD"
      },
      "source": [
        "## difference"
      ]
    },
    {
      "cell_type": "markdown",
      "metadata": {
        "id": "IzD9Cob8ZEkk"
      },
      "source": [
        "Para saber o que está no primeiro conjunto que não está no segundo"
      ]
    },
    {
      "cell_type": "code",
      "metadata": {
        "id": "BN31zCIO7RBe",
        "colab": {
          "base_uri": "https://localhost:8080/"
        },
        "outputId": "2febd87f-12c5-46a9-d671-7c733acff920"
      },
      "source": [
        "numero_pares.difference(numero_primos)"
      ],
      "execution_count": null,
      "outputs": [
        {
          "output_type": "execute_result",
          "data": {
            "text/plain": [
              "{4, 6, 8, 10}"
            ]
          },
          "metadata": {
            "tags": []
          },
          "execution_count": 7
        }
      ]
    },
    {
      "cell_type": "markdown",
      "metadata": {
        "id": "DRnaXEMUTL00"
      },
      "source": [
        "## intersection"
      ]
    },
    {
      "cell_type": "markdown",
      "metadata": {
        "id": "_4rcmUvtZPIo"
      },
      "source": [
        "Para saber a interseção entre os dois conjuntos"
      ]
    },
    {
      "cell_type": "code",
      "metadata": {
        "scrolled": true,
        "id": "Q0iS32C67RBf",
        "colab": {
          "base_uri": "https://localhost:8080/"
        },
        "outputId": "908c2109-6d2e-400d-9036-bdf118c6cd88"
      },
      "source": [
        "numero_impares.intersection(numero_primos)"
      ],
      "execution_count": null,
      "outputs": [
        {
          "output_type": "execute_result",
          "data": {
            "text/plain": [
              "{3, 5, 7}"
            ]
          },
          "metadata": {
            "tags": []
          },
          "execution_count": 81
        }
      ]
    },
    {
      "cell_type": "code",
      "metadata": {
        "id": "97b3kEDH7RBg"
      },
      "source": [
        "lista1 = [1,2,3,5]\n",
        "lista2 = [24,5,6]"
      ],
      "execution_count": null,
      "outputs": []
    },
    {
      "cell_type": "code",
      "metadata": {
        "id": "TPGPEqDy9CaR",
        "colab": {
          "base_uri": "https://localhost:8080/"
        },
        "outputId": "44460cbe-3f91-44e4-b88d-a4a75aae07c9"
      },
      "source": [
        "type(numero_impares)"
      ],
      "execution_count": null,
      "outputs": [
        {
          "output_type": "execute_result",
          "data": {
            "text/plain": [
              "set"
            ]
          },
          "metadata": {
            "tags": []
          },
          "execution_count": 9
        }
      ]
    },
    {
      "cell_type": "code",
      "metadata": {
        "id": "FLOm8-ZG7RBh",
        "colab": {
          "base_uri": "https://localhost:8080/"
        },
        "outputId": "1f1c58f5-52aa-44a6-f596-0c0624871333"
      },
      "source": [
        "listanova = list(set(lista1).intersection(set(lista2)))\n",
        "print(listanova)"
      ],
      "execution_count": null,
      "outputs": [
        {
          "output_type": "stream",
          "text": [
            "[5]\n"
          ],
          "name": "stdout"
        }
      ]
    },
    {
      "cell_type": "code",
      "metadata": {
        "id": "4S4nEIty7RBp"
      },
      "source": [
        "lista_aleatoria = [1,2,3,'string',6,6,9,8,15,10000]"
      ],
      "execution_count": null,
      "outputs": []
    },
    {
      "cell_type": "code",
      "metadata": {
        "id": "7TieIzqV7RBq"
      },
      "source": [
        "conjunto_aleatorio = set(lista_aleatoria)"
      ],
      "execution_count": null,
      "outputs": []
    },
    {
      "cell_type": "markdown",
      "metadata": {
        "id": "AJ7Wfopf7RBr"
      },
      "source": [
        "Ordena como string"
      ]
    },
    {
      "cell_type": "code",
      "metadata": {
        "id": "lTHJMiqWGe3P",
        "colab": {
          "base_uri": "https://localhost:8080/"
        },
        "outputId": "524f8c8c-5f47-400d-abc7-11aae0e0d053"
      },
      "source": [
        "conjunto_aleatorio"
      ],
      "execution_count": null,
      "outputs": [
        {
          "output_type": "execute_result",
          "data": {
            "text/plain": [
              "{1, 10000, 15, 2, 3, 6, 8, 9, 'string'}"
            ]
          },
          "metadata": {
            "tags": []
          },
          "execution_count": 15
        }
      ]
    },
    {
      "cell_type": "code",
      "metadata": {
        "id": "voVwHk1h7RBr",
        "colab": {
          "base_uri": "https://localhost:8080/"
        },
        "outputId": "81a4e709-b107-44fe-e561-1c55d1eacf28"
      },
      "source": [
        "lista_aleatoria_sem_string = [1,2,3,6,6,9,8,15,10000]\n",
        "conjunto_aleatorio_sem_string = set(lista_aleatoria_sem_string)\n",
        "print(conjunto_aleatorio_sem_string)"
      ],
      "execution_count": null,
      "outputs": [
        {
          "output_type": "stream",
          "text": [
            "{1, 2, 3, 6, 8, 9, 15, 10000}\n"
          ],
          "name": "stdout"
        }
      ]
    },
    {
      "cell_type": "code",
      "metadata": {
        "colab": {
          "base_uri": "https://localhost:8080/"
        },
        "id": "Hq6MRd-ZD0WQ",
        "outputId": "e3ca4278-f025-4508-9012-10cb3cb755b9"
      },
      "source": [
        "seq = list(range(1,5))\n",
        "print(seq)\n",
        "tseq = tuple(range(1,5))\n",
        "print(tseq)"
      ],
      "execution_count": null,
      "outputs": [
        {
          "output_type": "stream",
          "text": [
            "[1, 2, 3, 4]\n",
            "(1, 2, 3, 4)\n"
          ],
          "name": "stdout"
        }
      ]
    }
  ]
}